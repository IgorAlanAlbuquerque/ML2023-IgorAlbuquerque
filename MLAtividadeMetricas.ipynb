{
  "nbformat": 4,
  "nbformat_minor": 0,
  "metadata": {
    "colab": {
      "provenance": []
    },
    "kernelspec": {
      "name": "python3",
      "display_name": "Python 3"
    },
    "language_info": {
      "name": "python"
    }
  },
  "cells": [
    {
      "cell_type": "code",
      "execution_count": null,
      "metadata": {
        "id": "2WL1-_r7EuWV"
      },
      "outputs": [],
      "source": [
        "import pandas as pd\n",
        "import numpy as np\n",
        "from sklearn.metrics import confusion_matrix\n",
        "from sklearn import datasets\n",
        "from sklearn.model_selection import train_test_split\n",
        "from sklearn.linear_model import LogisticRegression\n",
        "from sklearn.metrics import roc_curve\n",
        "from sklearn.metrics import roc_auc_score\n",
        "from sklearn.metrics import RocCurveDisplay\n",
        "import matplotlib.pyplot as plt"
      ]
    },
    {
      "cell_type": "code",
      "source": [
        "dados = datasets.load_iris()\n",
        "X_train, X_test, y_train, y_test = train_test_split(dados.data, dados.target, test_size=0.1, random_state=42, stratify=dados.target)"
      ],
      "metadata": {
        "id": "CxVRgDmfFZ5n"
      },
      "execution_count": null,
      "outputs": []
    },
    {
      "cell_type": "code",
      "source": [
        "modelo = LogisticRegression(multi_class='auto', solver='lbfgs', random_state=42)\n",
        "modelo.fit(X_train, y_train)\n",
        "y_pred = modelo.predict(X_test)\n",
        "matrix = confusion_matrix(y_true=y_test, y_pred=y_pred)\n",
        "matrix"
      ],
      "metadata": {
        "colab": {
          "base_uri": "https://localhost:8080/"
        },
        "id": "-XkM9lLFHAbn",
        "outputId": "b309d80f-f5b5-4694-8a49-d933c0fde9dc"
      },
      "execution_count": null,
      "outputs": [
        {
          "output_type": "execute_result",
          "data": {
            "text/plain": [
              "array([[5, 0, 0],\n",
              "       [0, 4, 1],\n",
              "       [0, 0, 5]])"
            ]
          },
          "metadata": {},
          "execution_count": 68
        }
      ]
    },
    {
      "cell_type": "code",
      "source": [
        "Acuracia = np.sum(np.diagonal(matrix))/np.sum(matrix)\n",
        "print(f'A acurácia é: {Acuracia}')"
      ],
      "metadata": {
        "colab": {
          "base_uri": "https://localhost:8080/"
        },
        "id": "ZJ6-maIoi_yO",
        "outputId": "0e3ff38d-f024-4918-84f6-0468219558ae"
      },
      "execution_count": null,
      "outputs": [
        {
          "output_type": "stream",
          "name": "stdout",
          "text": [
            "A acurácia é: 0.9333333333333333\n"
          ]
        }
      ]
    },
    {
      "cell_type": "code",
      "source": [
        "precision = []\n",
        "for i in range(0, len(matrix[0])):\n",
        "  precision.append(matrix[i, i] / np.sum(matrix[:,i]))\n",
        "\n",
        "print(f'A precisão é: {precision}')"
      ],
      "metadata": {
        "colab": {
          "base_uri": "https://localhost:8080/"
        },
        "id": "9Yu1pnyZkc_s",
        "outputId": "176a7f34-91b9-4982-ca21-ff2680f4aa1d"
      },
      "execution_count": null,
      "outputs": [
        {
          "output_type": "stream",
          "name": "stdout",
          "text": [
            "A precisão é: [1.0, 1.0, 0.8333333333333334]\n"
          ]
        }
      ]
    },
    {
      "cell_type": "code",
      "source": [
        "Recall = []\n",
        "for i in range(0, len(matrix[0])):\n",
        "  Recall.append(matrix[i, i] / np.sum(matrix[i,:]))\n",
        "\n",
        "print(f'O recall é: {precision}')"
      ],
      "metadata": {
        "colab": {
          "base_uri": "https://localhost:8080/"
        },
        "id": "LiFHvnTomEp4",
        "outputId": "92b513e2-160c-477e-c945-52cdf8d96e17"
      },
      "execution_count": null,
      "outputs": [
        {
          "output_type": "stream",
          "name": "stdout",
          "text": [
            "O recall é: [1.0, 1.0, 0.8333333333333334]\n"
          ]
        }
      ]
    },
    {
      "cell_type": "code",
      "source": [
        "F1 = []\n",
        "for i in range(0, len(precision)):\n",
        "  F1.append(2*precision[i]*Recall[i]/(precision[i]+Recall[i]))\n",
        "\n",
        "print(f'O F1 score é: {F1}')"
      ],
      "metadata": {
        "colab": {
          "base_uri": "https://localhost:8080/"
        },
        "id": "-3jctPUWmp42",
        "outputId": "ed1d0f96-8c54-46ce-cfe3-84e071fddb58"
      },
      "execution_count": null,
      "outputs": [
        {
          "output_type": "stream",
          "name": "stdout",
          "text": [
            "O F1 score é: [1.0, 0.888888888888889, 0.9090909090909091]\n"
          ]
        }
      ]
    },
    {
      "cell_type": "code",
      "source": [
        "y_score = modelo.predict_proba(X_test)\n",
        "fpr, tpr, thresholds = roc_curve(y_true=y_test, y_score=y_score[:,2], pos_label=2)\n",
        "plt.plot(fpr, tpr, label='Curva ROC')\n",
        "plt.plot([0, 1], [0, 1], 'k--',)\n",
        "plt.xlabel('Taxa de Falsos Positivos (FPR)')\n",
        "plt.ylabel('Taxa de Verdadeiros Positivos (TPR)')\n",
        "plt.title('Curva ROC')\n",
        "plt.legend(loc='lower right')\n",
        "plt.show()"
      ],
      "metadata": {
        "id": "uCrgM4NlncYE",
        "colab": {
          "base_uri": "https://localhost:8080/",
          "height": 472
        },
        "outputId": "4e0fd975-6483-4dfb-ba1f-d529a47c4aaa"
      },
      "execution_count": null,
      "outputs": [
        {
          "output_type": "display_data",
          "data": {
            "text/plain": [
              "<Figure size 640x480 with 1 Axes>"
            ],
            "image/png": "[encoded data removed]"
          },
          "metadata": {}
        }
      ]
    },
    {
      "cell_type": "code",
      "source": [
        "roc_auc_score(y_true=y_test, y_score=y_score, multi_class='ovo')"
      ],
      "metadata": {
        "colab": {
          "base_uri": "https://localhost:8080/"
        },
        "id": "i10ktf0_XTjM",
        "outputId": "f0aee449-00c0-4308-f46d-a504ca54db0b"
      },
      "execution_count": null,
      "outputs": [
        {
          "output_type": "execute_result",
          "data": {
            "text/plain": [
              "1.0"
            ]
          },
          "metadata": {},
          "execution_count": 76
        }
      ]
    }
  ]
}