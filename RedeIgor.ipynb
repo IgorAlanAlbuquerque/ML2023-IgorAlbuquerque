{
  "nbformat": 4,
  "nbformat_minor": 0,
  "metadata": {
    "colab": {
      "provenance": []
    },
    "kernelspec": {
      "name": "python3",
      "display_name": "Python 3"
    },
    "language_info": {
      "name": "python"
    }
  },
  "cells": [
    {
      "cell_type": "code",
      "execution_count": null,
      "metadata": {
        "id": "i9qVQD7kXbAV"
      },
      "outputs": [],
      "source": [
        "import pandas as pd\n",
        "import numpy as np\n",
        "from sklearn.preprocessing import StandardScaler\n",
        "from sklearn.model_selection import KFold\n",
        "from keras.api._v2.keras import activations\n",
        "from tensorflow import keras\n",
        "from tensorflow.keras import layers\n",
        "from sklearn.model_selection import train_test_split"
      ]
    },
    {
      "cell_type": "code",
      "source": [
        "treino = pd.read_csv('train.csv')\n",
        "test = pd.read_csv('test.csv')\n",
        "treino.fillna(method='ffill', inplace=True)\n",
        "treino = treino.replace('female', 0)\n",
        "treino = treino.replace('male', 1)\n",
        "treino['Embarked'] = treino['Embarked'].replace('S',0)\n",
        "treino['Embarked'] = treino['Embarked'].replace('C',1)\n",
        "treino['Embarked'] = treino['Embarked'].replace('Q',2)\n",
        "#scaler = StandardScaler()\n",
        "#scaler.fit(treino[treino.columns.difference(['Survived', 'Cabin','Name','Ticket'])])\n",
        "#treinoA = scaler.transform(treino[treino.columns.difference(['Survived', 'Cabin','Name','Ticket'])])\n",
        "display(treino)"
      ],
      "metadata": {
        "colab": {
          "base_uri": "https://localhost:8080/",
          "height": 424
        },
        "id": "7bNcq8X5hPoH",
        "outputId": "06c5d4b9-f5e6-49d7-ad99-aa4cf96a167a"
      },
      "execution_count": null,
      "outputs": [
        {
          "output_type": "display_data",
          "data": {
            "text/plain": [
              "     PassengerId  Survived  Pclass  \\\n",
              "0              1         0       3   \n",
              "1              2         1       1   \n",
              "2              3         1       3   \n",
              "3              4         1       1   \n",
              "4              5         0       3   \n",
              "..           ...       ...     ...   \n",
              "886          887         0       2   \n",
              "887          888         1       1   \n",
              "888          889         0       3   \n",
              "889          890         1       1   \n",
              "890          891         0       3   \n",
              "\n",
              "                                                  Name  Sex   Age  SibSp  \\\n",
              "0                              Braund, Mr. Owen Harris    1  22.0      1   \n",
              "1    Cumings, Mrs. John Bradley (Florence Briggs Th...    0  38.0      1   \n",
              "2                               Heikkinen, Miss. Laina    0  26.0      0   \n",
              "3         Futrelle, Mrs. Jacques Heath (Lily May Peel)    0  35.0      1   \n",
              "4                             Allen, Mr. William Henry    1  35.0      0   \n",
              "..                                                 ...  ...   ...    ...   \n",
              "886                              Montvila, Rev. Juozas    1  27.0      0   \n",
              "887                       Graham, Miss. Margaret Edith    0  19.0      0   \n",
              "888           Johnston, Miss. Catherine Helen \"Carrie\"    0  19.0      1   \n",
              "889                              Behr, Mr. Karl Howell    1  26.0      0   \n",
              "890                                Dooley, Mr. Patrick    1  32.0      0   \n",
              "\n",
              "     Parch            Ticket     Fare Cabin  Embarked  \n",
              "0        0         A/5 21171   7.2500   NaN         0  \n",
              "1        0          PC 17599  71.2833   C85         1  \n",
              "2        0  STON/O2. 3101282   7.9250   C85         0  \n",
              "3        0            113803  53.1000  C123         0  \n",
              "4        0            373450   8.0500  C123         0  \n",
              "..     ...               ...      ...   ...       ...  \n",
              "886      0            211536  13.0000   C50         0  \n",
              "887      0            112053  30.0000   B42         0  \n",
              "888      2        W./C. 6607  23.4500   B42         0  \n",
              "889      0            111369  30.0000  C148         1  \n",
              "890      0            370376   7.7500  C148         2  \n",
              "\n",
              "[891 rows x 12 columns]"
            ],
            "text/html": [
              "\n",
              "  <div id=\"df-3dd0b725-9850-43ef-9b15-6073da91f8f1\">\n",
              "    <div class=\"colab-df-container\">\n",
              "      <div>\n",
              "<style scoped>\n",
              "    .dataframe tbody tr th:only-of-type {\n",
              "        vertical-align: middle;\n",
              "    }\n",
              "\n",
              "    .dataframe tbody tr th {\n",
              "        vertical-align: top;\n",
              "    }\n",
              "\n",
              "    .dataframe thead th {\n",
              "        text-align: right;\n",
              "    }\n",
              "</style>\n",
              "<table border=\"1\" class=\"dataframe\">\n",
              "  <thead>\n",
              "    <tr style=\"text-align: right;\">\n",
              "      <th></th>\n",
              "      <th>PassengerId</th>\n",
              "      <th>Survived</th>\n",
              "      <th>Pclass</th>\n",
              "      <th>Name</th>\n",
              "      <th>Sex</th>\n",
              "      <th>Age</th>\n",
              "      <th>SibSp</th>\n",
              "      <th>Parch</th>\n",
              "      <th>Ticket</th>\n",
              "      <th>Fare</th>\n",
              "      <th>Cabin</th>\n",
              "      <th>Embarked</th>\n",
              "    </tr>\n",
              "  </thead>\n",
              "  <tbody>\n",
              "    <tr>\n",
              "      <th>0</th>\n",
              "      <td>1</td>\n",
              "      <td>0</td>\n",
              "      <td>3</td>\n",
              "      <td>Braund, Mr. Owen Harris</td>\n",
              "      <td>1</td>\n",
              "      <td>22.0</td>\n",
              "      <td>1</td>\n",
              "      <td>0</td>\n",
              "      <td>A/5 21171</td>\n",
              "      <td>7.2500</td>\n",
              "      <td>NaN</td>\n",
              "      <td>0</td>\n",
              "    </tr>\n",
              "    <tr>\n",
              "      <th>1</th>\n",
              "      <td>2</td>\n",
              "      <td>1</td>\n",
              "      <td>1</td>\n",
              "      <td>Cumings, Mrs. John Bradley (Florence Briggs Th...</td>\n",
              "      <td>0</td>\n",
              "      <td>38.0</td>\n",
              "      <td>1</td>\n",
              "      <td>0</td>\n",
              "      <td>PC 17599</td>\n",
              "      <td>71.2833</td>\n",
              "      <td>C85</td>\n",
              "      <td>1</td>\n",
              "    </tr>\n",
              "    <tr>\n",
              "      <th>2</th>\n",
              "      <td>3</td>\n",
              "      <td>1</td>\n",
              "      <td>3</td>\n",
              "      <td>Heikkinen, Miss. Laina</td>\n",
              "      <td>0</td>\n",
              "      <td>26.0</td>\n",
              "      <td>0</td>\n",
              "      <td>0</td>\n",
              "      <td>STON/O2. 3101282</td>\n",
              "      <td>7.9250</td>\n",
              "      <td>C85</td>\n",
              "      <td>0</td>\n",
              "    </tr>\n",
              "    <tr>\n",
              "      <th>3</th>\n",
              "      <td>4</td>\n",
              "      <td>1</td>\n",
              "      <td>1</td>\n",
              "      <td>Futrelle, Mrs. Jacques Heath (Lily May Peel)</td>\n",
              "      <td>0</td>\n",
              "      <td>35.0</td>\n",
              "      <td>1</td>\n",
              "      <td>0</td>\n",
              "      <td>113803</td>\n",
              "      <td>53.1000</td>\n",
              "      <td>C123</td>\n",
              "      <td>0</td>\n",
              "    </tr>\n",
              "    <tr>\n",
              "      <th>4</th>\n",
              "      <td>5</td>\n",
              "      <td>0</td>\n",
              "      <td>3</td>\n",
              "      <td>Allen, Mr. William Henry</td>\n",
              "      <td>1</td>\n",
              "      <td>35.0</td>\n",
              "      <td>0</td>\n",
              "      <td>0</td>\n",
              "      <td>373450</td>\n",
              "      <td>8.0500</td>\n",
              "      <td>C123</td>\n",
              "      <td>0</td>\n",
              "    </tr>\n",
              "    <tr>\n",
              "      <th>...</th>\n",
              "      <td>...</td>\n",
              "      <td>...</td>\n",
              "      <td>...</td>\n",
              "      <td>...</td>\n",
              "      <td>...</td>\n",
              "      <td>...</td>\n",
              "      <td>...</td>\n",
              "      <td>...</td>\n",
              "      <td>...</td>\n",
              "      <td>...</td>\n",
              "      <td>...</td>\n",
              "      <td>...</td>\n",
              "    </tr>\n",
              "    <tr>\n",
              "      <th>886</th>\n",
              "      <td>887</td>\n",
              "      <td>0</td>\n",
              "      <td>2</td>\n",
              "      <td>Montvila, Rev. Juozas</td>\n",
              "      <td>1</td>\n",
              "      <td>27.0</td>\n",
              "      <td>0</td>\n",
              "      <td>0</td>\n",
              "      <td>211536</td>\n",
              "      <td>13.0000</td>\n",
              "      <td>C50</td>\n",
              "      <td>0</td>\n",
              "    </tr>\n",
              "    <tr>\n",
              "      <th>887</th>\n",
              "      <td>888</td>\n",
              "      <td>1</td>\n",
              "      <td>1</td>\n",
              "      <td>Graham, Miss. Margaret Edith</td>\n",
              "      <td>0</td>\n",
              "      <td>19.0</td>\n",
              "      <td>0</td>\n",
              "      <td>0</td>\n",
              "      <td>112053</td>\n",
              "      <td>30.0000</td>\n",
              "      <td>B42</td>\n",
              "      <td>0</td>\n",
              "    </tr>\n",
              "    <tr>\n",
              "      <th>888</th>\n",
              "      <td>889</td>\n",
              "      <td>0</td>\n",
              "      <td>3</td>\n",
              "      <td>Johnston, Miss. Catherine Helen \"Carrie\"</td>\n",
              "      <td>0</td>\n",
              "      <td>19.0</td>\n",
              "      <td>1</td>\n",
              "      <td>2</td>\n",
              "      <td>W./C. 6607</td>\n",
              "      <td>23.4500</td>\n",
              "      <td>B42</td>\n",
              "      <td>0</td>\n",
              "    </tr>\n",
              "    <tr>\n",
              "      <th>889</th>\n",
              "      <td>890</td>\n",
              "      <td>1</td>\n",
              "      <td>1</td>\n",
              "      <td>Behr, Mr. Karl Howell</td>\n",
              "      <td>1</td>\n",
              "      <td>26.0</td>\n",
              "      <td>0</td>\n",
              "      <td>0</td>\n",
              "      <td>111369</td>\n",
              "      <td>30.0000</td>\n",
              "      <td>C148</td>\n",
              "      <td>1</td>\n",
              "    </tr>\n",
              "    <tr>\n",
              "      <th>890</th>\n",
              "      <td>891</td>\n",
              "      <td>0</td>\n",
              "      <td>3</td>\n",
              "      <td>Dooley, Mr. Patrick</td>\n",
              "      <td>1</td>\n",
              "      <td>32.0</td>\n",
              "      <td>0</td>\n",
              "      <td>0</td>\n",
              "      <td>370376</td>\n",
              "      <td>7.7500</td>\n",
              "      <td>C148</td>\n",
              "      <td>2</td>\n",
              "    </tr>\n",
              "  </tbody>\n",
              "</table>\n",
              "<p>891 rows × 12 columns</p>\n",
              "</div>\n",
              "      <button class=\"colab-df-convert\" onclick=\"convertToInteractive('df-3dd0b725-9850-43ef-9b15-6073da91f8f1')\"\n",
              "              title=\"Convert this dataframe to an interactive table.\"\n",
              "              style=\"display:none;\">\n",
              "        \n",
              "  <svg xmlns=\"http://www.w3.org/2000/svg\" height=\"24px\"viewBox=\"0 0 24 24\"\n",
              "       width=\"24px\">\n",
              "    <path d=\"M0 0h24v24H0V0z\" fill=\"none\"/>\n",
              "    <path d=\"M18.56 5.44l.94 2.06.94-2.06 2.06-.94-2.06-.94-.94-2.06-.94 2.06-2.06.94zm-11 1L8.5 8.5l.94-2.06 2.06-.94-2.06-.94L8.5 2.5l-.94 2.06-2.06.94zm10 10l.94 2.06.94-2.06 2.06-.94-2.06-.94-.94-2.06-.94 2.06-2.06.94z\"/><path d=\"M17.41 7.96l-1.37-1.37c-.4-.4-.92-.59-1.43-.59-.52 0-1.04.2-1.43.59L10.3 9.45l-7.72 7.72c-.78.78-.78 2.05 0 2.83L4 21.41c.39.39.9.59 1.41.59.51 0 1.02-.2 1.41-.59l7.78-7.78 2.81-2.81c.8-.78.8-2.07 0-2.86zM5.41 20L4 18.59l7.72-7.72 1.47 1.35L5.41 20z\"/>\n",
              "  </svg>\n",
              "      </button>\n",
              "      \n",
              "  <style>\n",
              "    .colab-df-container {\n",
              "      display:flex;\n",
              "      flex-wrap:wrap;\n",
              "      gap: 12px;\n",
              "    }\n",
              "\n",
              "    .colab-df-convert {\n",
              "      background-color: #E8F0FE;\n",
              "      border: none;\n",
              "      border-radius: 50%;\n",
              "      cursor: pointer;\n",
              "      display: none;\n",
              "      fill: #1967D2;\n",
              "      height: 32px;\n",
              "      padding: 0 0 0 0;\n",
              "      width: 32px;\n",
              "    }\n",
              "\n",
              "    .colab-df-convert:hover {\n",
              "      background-color: #E2EBFA;\n",
              "      box-shadow: 0px 1px 2px rgba(60, 64, 67, 0.3), 0px 1px 3px 1px rgba(60, 64, 67, 0.15);\n",
              "      fill: #174EA6;\n",
              "    }\n",
              "\n",
              "    [theme=dark] .colab-df-convert {\n",
              "      background-color: #3B4455;\n",
              "      fill: #D2E3FC;\n",
              "    }\n",
              "\n",
              "    [theme=dark] .colab-df-convert:hover {\n",
              "      background-color: #434B5C;\n",
              "      box-shadow: 0px 1px 3px 1px rgba(0, 0, 0, 0.15);\n",
              "      filter: drop-shadow(0px 1px 2px rgba(0, 0, 0, 0.3));\n",
              "      fill: #FFFFFF;\n",
              "    }\n",
              "  </style>\n",
              "\n",
              "      <script>\n",
              "        const buttonEl =\n",
              "          document.querySelector('#df-3dd0b725-9850-43ef-9b15-6073da91f8f1 button.colab-df-convert');\n",
              "        buttonEl.style.display =\n",
              "          google.colab.kernel.accessAllowed ? 'block' : 'none';\n",
              "\n",
              "        async function convertToInteractive(key) {\n",
              "          const element = document.querySelector('#df-3dd0b725-9850-43ef-9b15-6073da91f8f1');\n",
              "          const dataTable =\n",
              "            await google.colab.kernel.invokeFunction('convertToInteractive',\n",
              "                                                     [key], {});\n",
              "          if (!dataTable) return;\n",
              "\n",
              "          const docLinkHtml = 'Like what you see? Visit the ' +\n",
              "            '<a target=\"_blank\" href=https://colab.research.google.com/notebooks/data_table.ipynb>data table notebook</a>'\n",
              "            + ' to learn more about interactive tables.';\n",
              "          element.innerHTML = '';\n",
              "          dataTable['output_type'] = 'display_data';\n",
              "          await google.colab.output.renderOutput(dataTable, element);\n",
              "          const docLink = document.createElement('div');\n",
              "          docLink.innerHTML = docLinkHtml;\n",
              "          element.appendChild(docLink);\n",
              "        }\n",
              "      </script>\n",
              "    </div>\n",
              "  </div>\n",
              "  "
            ]
          },
          "metadata": {}
        }
      ]
    },
    {
      "cell_type": "code",
      "source": [
        "Nneuronios = [16,32,64]\n",
        "for i in Nneuronios:\n",
        "  kf = KFold(n_splits=5, random_state=42, shuffle=True)\n",
        "  for trainindex, testindex in kf.split(treino[treino.columns.difference(['Survived', 'Cabin','Name','Ticket'])],treino['Survived']):\n",
        "    model = keras.Sequential([layers.Dense(i, activation='relu'), layers.Dense(2, activation='softmax')])\n",
        "    model.compile(optimizer='rmsprop', loss='sparse_categorical_crossentropy', metrics=['accuracy'])\n",
        "    display(treino['Sex'][trainindex])\n",
        "    display(treino['Sex'][testindex])\n",
        "    #model.fit(,,epochs=100, batch_size=128)"
      ],
      "metadata": {
        "colab": {
          "base_uri": "https://localhost:8080/",
          "height": 1000
        },
        "id": "cwB7CtYZeJef",
        "outputId": "d751f8db-5125-4b47-aa22-e50d8a139922"
      },
      "execution_count": null,
      "outputs": [
        {
          "output_type": "display_data",
          "data": {
            "text/plain": [
              "0      1\n",
              "1      0\n",
              "2      0\n",
              "3      0\n",
              "4      1\n",
              "      ..\n",
              "883    1\n",
              "884    1\n",
              "887    0\n",
              "888    0\n",
              "890    1\n",
              "Name: Sex, Length: 712, dtype: int64"
            ]
          },
          "metadata": {}
        },
        {
          "output_type": "display_data",
          "data": {
            "text/plain": [
              "5      1\n",
              "10     0\n",
              "23     1\n",
              "25     0\n",
              "30     1\n",
              "      ..\n",
              "876    1\n",
              "877    1\n",
              "885    0\n",
              "886    1\n",
              "889    1\n",
              "Name: Sex, Length: 179, dtype: int64"
            ]
          },
          "metadata": {}
        },
        {
          "output_type": "display_data",
          "data": {
            "text/plain": [
              "0      1\n",
              "1      0\n",
              "3      0\n",
              "4      1\n",
              "5      1\n",
              "      ..\n",
              "886    1\n",
              "887    0\n",
              "888    0\n",
              "889    1\n",
              "890    1\n",
              "Name: Sex, Length: 713, dtype: int64"
            ]
          },
          "metadata": {}
        },
        {
          "output_type": "display_data",
          "data": {
            "text/plain": [
              "2      0\n",
              "6      1\n",
              "7      1\n",
              "12     1\n",
              "18     0\n",
              "      ..\n",
              "865    0\n",
              "869    1\n",
              "880    0\n",
              "882    0\n",
              "884    1\n",
              "Name: Sex, Length: 178, dtype: int64"
            ]
          },
          "metadata": {}
        },
        {
          "output_type": "display_data",
          "data": {
            "text/plain": [
              "1      0\n",
              "2      0\n",
              "4      1\n",
              "5      1\n",
              "6      1\n",
              "      ..\n",
              "885    0\n",
              "886    1\n",
              "887    0\n",
              "888    0\n",
              "889    1\n",
              "Name: Sex, Length: 713, dtype: int64"
            ]
          },
          "metadata": {}
        },
        {
          "output_type": "display_data",
          "data": {
            "text/plain": [
              "0      1\n",
              "3      0\n",
              "9      0\n",
              "11     0\n",
              "15     0\n",
              "      ..\n",
              "866    0\n",
              "874    0\n",
              "879    0\n",
              "881    1\n",
              "890    1\n",
              "Name: Sex, Length: 178, dtype: int64"
            ]
          },
          "metadata": {}
        },
        {
          "output_type": "display_data",
          "data": {
            "text/plain": [
              "0      1\n",
              "1      0\n",
              "2      0\n",
              "3      0\n",
              "4      1\n",
              "      ..\n",
              "885    0\n",
              "886    1\n",
              "887    0\n",
              "889    1\n",
              "890    1\n",
              "Name: Sex, Length: 713, dtype: int64"
            ]
          },
          "metadata": {}
        },
        {
          "output_type": "display_data",
          "data": {
            "text/plain": [
              "8      0\n",
              "16     1\n",
              "17     1\n",
              "26     1\n",
              "36     1\n",
              "      ..\n",
              "870    1\n",
              "872    1\n",
              "875    0\n",
              "878    1\n",
              "888    0\n",
              "Name: Sex, Length: 178, dtype: int64"
            ]
          },
          "metadata": {}
        },
        {
          "output_type": "display_data",
          "data": {
            "text/plain": [
              "0      1\n",
              "2      0\n",
              "3      0\n",
              "5      1\n",
              "6      1\n",
              "      ..\n",
              "885    0\n",
              "886    1\n",
              "888    0\n",
              "889    1\n",
              "890    1\n",
              "Name: Sex, Length: 713, dtype: int64"
            ]
          },
          "metadata": {}
        },
        {
          "output_type": "display_data",
          "data": {
            "text/plain": [
              "1      0\n",
              "4      1\n",
              "13     1\n",
              "14     0\n",
              "20     1\n",
              "      ..\n",
              "867    1\n",
              "871    0\n",
              "873    1\n",
              "883    1\n",
              "887    0\n",
              "Name: Sex, Length: 178, dtype: int64"
            ]
          },
          "metadata": {}
        },
        {
          "output_type": "display_data",
          "data": {
            "text/plain": [
              "0      1\n",
              "1      0\n",
              "2      0\n",
              "3      0\n",
              "4      1\n",
              "      ..\n",
              "883    1\n",
              "884    1\n",
              "887    0\n",
              "888    0\n",
              "890    1\n",
              "Name: Sex, Length: 712, dtype: int64"
            ]
          },
          "metadata": {}
        },
        {
          "output_type": "display_data",
          "data": {
            "text/plain": [
              "5      1\n",
              "10     0\n",
              "23     1\n",
              "25     0\n",
              "30     1\n",
              "      ..\n",
              "876    1\n",
              "877    1\n",
              "885    0\n",
              "886    1\n",
              "889    1\n",
              "Name: Sex, Length: 179, dtype: int64"
            ]
          },
          "metadata": {}
        },
        {
          "output_type": "display_data",
          "data": {
            "text/plain": [
              "0      1\n",
              "1      0\n",
              "3      0\n",
              "4      1\n",
              "5      1\n",
              "      ..\n",
              "886    1\n",
              "887    0\n",
              "888    0\n",
              "889    1\n",
              "890    1\n",
              "Name: Sex, Length: 713, dtype: int64"
            ]
          },
          "metadata": {}
        },
        {
          "output_type": "display_data",
          "data": {
            "text/plain": [
              "2      0\n",
              "6      1\n",
              "7      1\n",
              "12     1\n",
              "18     0\n",
              "      ..\n",
              "865    0\n",
              "869    1\n",
              "880    0\n",
              "882    0\n",
              "884    1\n",
              "Name: Sex, Length: 178, dtype: int64"
            ]
          },
          "metadata": {}
        },
        {
          "output_type": "display_data",
          "data": {
            "text/plain": [
              "1      0\n",
              "2      0\n",
              "4      1\n",
              "5      1\n",
              "6      1\n",
              "      ..\n",
              "885    0\n",
              "886    1\n",
              "887    0\n",
              "888    0\n",
              "889    1\n",
              "Name: Sex, Length: 713, dtype: int64"
            ]
          },
          "metadata": {}
        },
        {
          "output_type": "display_data",
          "data": {
            "text/plain": [
              "0      1\n",
              "3      0\n",
              "9      0\n",
              "11     0\n",
              "15     0\n",
              "      ..\n",
              "866    0\n",
              "874    0\n",
              "879    0\n",
              "881    1\n",
              "890    1\n",
              "Name: Sex, Length: 178, dtype: int64"
            ]
          },
          "metadata": {}
        },
        {
          "output_type": "display_data",
          "data": {
            "text/plain": [
              "0      1\n",
              "1      0\n",
              "2      0\n",
              "3      0\n",
              "4      1\n",
              "      ..\n",
              "885    0\n",
              "886    1\n",
              "887    0\n",
              "889    1\n",
              "890    1\n",
              "Name: Sex, Length: 713, dtype: int64"
            ]
          },
          "metadata": {}
        },
        {
          "output_type": "display_data",
          "data": {
            "text/plain": [
              "8      0\n",
              "16     1\n",
              "17     1\n",
              "26     1\n",
              "36     1\n",
              "      ..\n",
              "870    1\n",
              "872    1\n",
              "875    0\n",
              "878    1\n",
              "888    0\n",
              "Name: Sex, Length: 178, dtype: int64"
            ]
          },
          "metadata": {}
        },
        {
          "output_type": "display_data",
          "data": {
            "text/plain": [
              "0      1\n",
              "2      0\n",
              "3      0\n",
              "5      1\n",
              "6      1\n",
              "      ..\n",
              "885    0\n",
              "886    1\n",
              "888    0\n",
              "889    1\n",
              "890    1\n",
              "Name: Sex, Length: 713, dtype: int64"
            ]
          },
          "metadata": {}
        },
        {
          "output_type": "display_data",
          "data": {
            "text/plain": [
              "1      0\n",
              "4      1\n",
              "13     1\n",
              "14     0\n",
              "20     1\n",
              "      ..\n",
              "867    1\n",
              "871    0\n",
              "873    1\n",
              "883    1\n",
              "887    0\n",
              "Name: Sex, Length: 178, dtype: int64"
            ]
          },
          "metadata": {}
        },
        {
          "output_type": "display_data",
          "data": {
            "text/plain": [
              "0      1\n",
              "1      0\n",
              "2      0\n",
              "3      0\n",
              "4      1\n",
              "      ..\n",
              "883    1\n",
              "884    1\n",
              "887    0\n",
              "888    0\n",
              "890    1\n",
              "Name: Sex, Length: 712, dtype: int64"
            ]
          },
          "metadata": {}
        },
        {
          "output_type": "display_data",
          "data": {
            "text/plain": [
              "5      1\n",
              "10     0\n",
              "23     1\n",
              "25     0\n",
              "30     1\n",
              "      ..\n",
              "876    1\n",
              "877    1\n",
              "885    0\n",
              "886    1\n",
              "889    1\n",
              "Name: Sex, Length: 179, dtype: int64"
            ]
          },
          "metadata": {}
        },
        {
          "output_type": "display_data",
          "data": {
            "text/plain": [
              "0      1\n",
              "1      0\n",
              "3      0\n",
              "4      1\n",
              "5      1\n",
              "      ..\n",
              "886    1\n",
              "887    0\n",
              "888    0\n",
              "889    1\n",
              "890    1\n",
              "Name: Sex, Length: 713, dtype: int64"
            ]
          },
          "metadata": {}
        },
        {
          "output_type": "display_data",
          "data": {
            "text/plain": [
              "2      0\n",
              "6      1\n",
              "7      1\n",
              "12     1\n",
              "18     0\n",
              "      ..\n",
              "865    0\n",
              "869    1\n",
              "880    0\n",
              "882    0\n",
              "884    1\n",
              "Name: Sex, Length: 178, dtype: int64"
            ]
          },
          "metadata": {}
        },
        {
          "output_type": "display_data",
          "data": {
            "text/plain": [
              "1      0\n",
              "2      0\n",
              "4      1\n",
              "5      1\n",
              "6      1\n",
              "      ..\n",
              "885    0\n",
              "886    1\n",
              "887    0\n",
              "888    0\n",
              "889    1\n",
              "Name: Sex, Length: 713, dtype: int64"
            ]
          },
          "metadata": {}
        },
        {
          "output_type": "display_data",
          "data": {
            "text/plain": [
              "0      1\n",
              "3      0\n",
              "9      0\n",
              "11     0\n",
              "15     0\n",
              "      ..\n",
              "866    0\n",
              "874    0\n",
              "879    0\n",
              "881    1\n",
              "890    1\n",
              "Name: Sex, Length: 178, dtype: int64"
            ]
          },
          "metadata": {}
        },
        {
          "output_type": "display_data",
          "data": {
            "text/plain": [
              "0      1\n",
              "1      0\n",
              "2      0\n",
              "3      0\n",
              "4      1\n",
              "      ..\n",
              "885    0\n",
              "886    1\n",
              "887    0\n",
              "889    1\n",
              "890    1\n",
              "Name: Sex, Length: 713, dtype: int64"
            ]
          },
          "metadata": {}
        },
        {
          "output_type": "display_data",
          "data": {
            "text/plain": [
              "8      0\n",
              "16     1\n",
              "17     1\n",
              "26     1\n",
              "36     1\n",
              "      ..\n",
              "870    1\n",
              "872    1\n",
              "875    0\n",
              "878    1\n",
              "888    0\n",
              "Name: Sex, Length: 178, dtype: int64"
            ]
          },
          "metadata": {}
        },
        {
          "output_type": "display_data",
          "data": {
            "text/plain": [
              "0      1\n",
              "2      0\n",
              "3      0\n",
              "5      1\n",
              "6      1\n",
              "      ..\n",
              "885    0\n",
              "886    1\n",
              "888    0\n",
              "889    1\n",
              "890    1\n",
              "Name: Sex, Length: 713, dtype: int64"
            ]
          },
          "metadata": {}
        },
        {
          "output_type": "display_data",
          "data": {
            "text/plain": [
              "1      0\n",
              "4      1\n",
              "13     1\n",
              "14     0\n",
              "20     1\n",
              "      ..\n",
              "867    1\n",
              "871    0\n",
              "873    1\n",
              "883    1\n",
              "887    0\n",
              "Name: Sex, Length: 178, dtype: int64"
            ]
          },
          "metadata": {}
        }
      ]
    },
    {
      "cell_type": "code",
      "source": [],
      "metadata": {
        "id": "XjdARedKf3Th"
      },
      "execution_count": null,
      "outputs": []
    }
  ]
}