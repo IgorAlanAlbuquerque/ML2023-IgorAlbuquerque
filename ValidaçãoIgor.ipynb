{
  "nbformat": 4,
  "nbformat_minor": 0,
  "metadata": {
    "colab": {
      "provenance": [],
      "toc_visible": true
    },
    "kernelspec": {
      "name": "python3",
      "display_name": "Python 3"
    },
    "language_info": {
      "name": "python"
    }
  },
  "cells": [
    {
      "cell_type": "code",
      "execution_count": null,
      "metadata": {
        "id": "h88MRqBdaMll"
      },
      "outputs": [],
      "source": [
        "import numpy as np\n",
        "import pandas as pd\n",
        "from sklearn.model_selection import train_test_split\n",
        "from sklearn.datasets import load_breast_cancer\n",
        "from sklearn.neighbors import KNeighborsClassifier\n",
        "from sklearn.tree import DecisionTreeClassifier\n",
        "from sklearn.model_selection import KFold"
      ]
    },
    {
      "cell_type": "code",
      "source": [
        "data = load_breast_cancer()"
      ],
      "metadata": {
        "id": "lpKNQ8VIbahb"
      },
      "execution_count": null,
      "outputs": []
    },
    {
      "cell_type": "markdown",
      "source": [
        "Acredito não ser necessário normalizar. Os target já são todos 0 ou 1. Os dados não variam em um intervalo tão grande. Vão de 0 a 10."
      ],
      "metadata": {
        "id": "eGqIbE1OVG4x"
      }
    },
    {
      "cell_type": "code",
      "source": [
        "(traindata, testdata, trainlabel, testlabel) = train_test_split(data.data, data.target, test_size=0.2, random_state=42, stratify=data.target)"
      ],
      "metadata": {
        "id": "gnu62qkmcDEy"
      },
      "execution_count": null,
      "outputs": []
    },
    {
      "cell_type": "code",
      "source": [
        "kvizinhos = [1,3,5,11,21,31]\n",
        "Scores = []\n",
        "ScoreMean = []\n",
        "for i in kvizinhos:\n",
        "  kf = KFold(n_splits=5, random_state=42, shuffle=True)\n",
        "  for trainindex, testindex in kf.split(traindata,trainlabel):\n",
        "    model = KNeighborsClassifier(n_neighbors=i)\n",
        "    model.fit(traindata[trainindex], trainlabel[trainindex])\n",
        "    Scores.append(model.score(traindata[testindex], trainlabel[testindex]))\n",
        "  ScoreMean.append(np.mean(Scores))\n",
        "  Scores = []\n",
        "model = KNeighborsClassifier(n_neighbors=np.argmax(ScoreMean))\n",
        "model.fit(traindata, trainlabel)\n",
        "print(model.score(testdata, testlabel))"
      ],
      "metadata": {
        "colab": {
          "base_uri": "https://localhost:8080/"
        },
        "id": "CxsOUbxFebzp",
        "outputId": "dd10815e-21e2-437a-95bc-ca5ef208ce64"
      },
      "execution_count": null,
      "outputs": [
        {
          "output_type": "stream",
          "name": "stdout",
          "text": [
            "0.9035087719298246\n"
          ]
        }
      ]
    },
    {
      "cell_type": "code",
      "source": [
        "Scoresgini = []\n",
        "Scoresentropy = []\n",
        "Scoreslogloss = []\n",
        "ScoreMean = []\n",
        "for i in range(10,101,10):\n",
        "  kf = KFold(n_splits=5, random_state=42, shuffle=True)\n",
        "  for trainindex, testindex in kf.split(traindata, trainlabel):\n",
        "    model = DecisionTreeClassifier(criterion=\"gini\", max_depth=i)\n",
        "    model.fit(traindata[trainindex], trainlabel[trainindex])\n",
        "    Scoresgini.append(model.score(traindata[testindex], trainlabel[testindex]))\n",
        "    model = DecisionTreeClassifier(criterion=\"entropy\", max_depth=i)\n",
        "    model.fit(traindata[trainindex], trainlabel[trainindex])\n",
        "    Scoresentropy.append(model.score(traindata[testindex], trainlabel[testindex]))\n",
        "    model = DecisionTreeClassifier(criterion=\"log_loss\", max_depth=i)\n",
        "    model.fit(traindata[trainindex], trainlabel[trainindex])\n",
        "    Scoreslogloss.append(model.score(traindata[testindex], trainlabel[testindex]))\n",
        "  ScoreMean.append(np.mean(Scoresgini))\n",
        "  ScoreMean.append(np.mean(Scoresentropy))\n",
        "  ScoreMean.append(np.mean(Scoreslogloss))\n",
        "  Scoresgini=[]\n",
        "  Scoresentropy =[]\n",
        "  Scoreslogloss = []\n",
        "pos = np.argmax(ScoreMean)\n",
        "parametro = [\"gini\", \"entropy\", \"log_loss\"]\n",
        "model = DecisionTreeClassifier(criterion=parametro[pos%3], max_depth=(10*(1+(pos//3))))\n",
        "model.fit(traindata, trainlabel)\n",
        "model.score(testdata, testlabel)"
      ],
      "metadata": {
        "colab": {
          "base_uri": "https://localhost:8080/"
        },
        "id": "3Lc9mapXhDkA",
        "outputId": "40139cca-2aca-4114-8f68-ec8d45017ad5"
      },
      "execution_count": null,
      "outputs": [
        {
          "output_type": "execute_result",
          "data": {
            "text/plain": [
              "0.9035087719298246"
            ]
          },
          "metadata": {},
          "execution_count": 35
        }
      ]
    }
  ]
}